{
 "cells": [
  {
   "cell_type": "code",
   "execution_count": 3,
   "id": "f741a20b",
   "metadata": {},
   "outputs": [
    {
     "name": "stdout",
     "output_type": "stream",
     "text": [
      "[['sky', 'airtemp', 'humidity', 'wind', 'water', 'forcast', 'enjoysport'], ['sunny', 'warm', 'normal', 'strong', 'warm', 'same', 'yes'], ['sunny', 'warm', 'high', 'strong', 'warm', 'same', 'yes'], ['rainy', 'cold', 'high', 'strong', 'warm', 'change', 'no'], ['sunny', 'warm', 'high', 'strong', 'cool', 'change', 'yes']]\n",
      "The training instance are 5\n",
      "6\n",
      "initalize the hypothesis \n",
      "\n",
      "['0', '0', '0', '0', '0', '0']\n",
      "Initial  1 is: ['sunny', 'warm', 'normal', 'strong', 'warm', 'same', 'yes'] +ve\n",
      "the hypothesis for training instance 1 is: ['sunny', 'warm', 'normal', 'strong', 'warm', 'same']\n",
      "Initial  2 is: ['sunny', 'warm', 'high', 'strong', 'warm', 'same', 'yes'] +ve\n",
      "the hypothesis for training instance 2 is: ['sunny', 'warm', '?', 'strong', 'warm', 'same']\n",
      "Initial  3 is: ['rainy', 'cold', 'high', 'strong', 'warm', 'change', 'no'] -ve\n",
      "the hypothesis for training instance 3 is: ['sunny', 'warm', '?', 'strong', 'warm', 'same']\n",
      "Initial  4 is: ['sunny', 'warm', 'high', 'strong', 'cool', 'change', 'yes'] +ve\n",
      "the hypothesis for training instance 4 is: ['sunny', 'warm', '?', 'strong', '?', '?']\n",
      "The specific hypothesis is : ['sunny', 'warm', '?', 'strong', '?', '?']\n"
     ]
    }
   ],
   "source": [
    "import csv\n",
    "a=[]\n",
    "with open(\"enjoysport.csv\",\"r\") as csvfile:\n",
    "    for row in csv.reader(csvfile):\n",
    "        a.append(row)\n",
    "    print(a)\n",
    "print(\"The training instance are\",len(a))\n",
    "inital=len(a[0])-1\n",
    "print(inital)\n",
    "print(\"initalize the hypothesis \\n\")\n",
    "hypothesis=[\"0\"]*inital\n",
    "print(hypothesis)\n",
    "for i in range(0,len(a)):\n",
    "    if a[i][inital]==\"yes\":\n",
    "        print(\"Initial \",i,\"is:\",a[i],\"+ve\")\n",
    "        for j in range(0,inital):\n",
    "            if hypothesis[j]==\"0\" or hypothesis[j]==a[i][j]:\n",
    "                hypothesis[j]=a[i][j]\n",
    "            else:\n",
    "                hypothesis[j]=\"?\"\n",
    "        print(\"the hypothesis for training instance\",i,\"is:\",hypothesis)\n",
    "    if a[i][inital]==\"no\":\n",
    "        print(\"Initial \",i,\"is:\",a[i],\"-ve\")\n",
    "        print(\"the hypothesis for training instance\",i,\"is:\",hypothesis)\n",
    "print(\"The specific hypothesis is :\",hypothesis)"
   ]
  },
  {
   "cell_type": "code",
   "execution_count": null,
   "id": "682f307f",
   "metadata": {},
   "outputs": [],
   "source": []
  }
 ],
 "metadata": {
  "kernelspec": {
   "display_name": "Python 3 (ipykernel)",
   "language": "python",
   "name": "python3"
  },
  "language_info": {
   "codemirror_mode": {
    "name": "ipython",
    "version": 3
   },
   "file_extension": ".py",
   "mimetype": "text/x-python",
   "name": "python",
   "nbconvert_exporter": "python",
   "pygments_lexer": "ipython3",
   "version": "3.11.4"
  }
 },
 "nbformat": 4,
 "nbformat_minor": 5
}
